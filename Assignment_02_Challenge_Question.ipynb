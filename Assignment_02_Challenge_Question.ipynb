{
  "nbformat": 4,
  "nbformat_minor": 0,
  "metadata": {
    "colab": {
      "provenance": []
    },
    "kernelspec": {
      "name": "python3",
      "display_name": "Python 3"
    },
    "language_info": {
      "name": "python"
    }
  },
  "cells": [
    {
      "cell_type": "markdown",
      "source": [
        "***Challenge Question***"
      ],
      "metadata": {
        "id": "fgMHYDpkojUR"
      }
    },
    {
      "cell_type": "code",
      "source": [
        "L = [\"Ram\", 1, \"Shyam\", 2, \"Aman\", 3]\n",
        "L\n",
        "Lnew = sorted(L, key=lambda x: str(x))\n",
        "Lnew\n"
      ],
      "metadata": {
        "colab": {
          "base_uri": "https://localhost:8080/"
        },
        "id": "QSUjhgf0onld",
        "outputId": "6b12ca43-8079-42cf-f89a-c2ed7b34937a"
      },
      "execution_count": 2,
      "outputs": [
        {
          "output_type": "execute_result",
          "data": {
            "text/plain": [
              "[1, 2, 3, 'Aman', 'Ram', 'Shyam']"
            ]
          },
          "metadata": {},
          "execution_count": 2
        }
      ]
    }
  ]
}